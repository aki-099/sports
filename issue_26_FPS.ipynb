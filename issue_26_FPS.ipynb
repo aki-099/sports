{
 "cells": [
  {
   "attachments": {},
   "cell_type": "markdown",
   "metadata": {},
   "source": [
    "フレーム画像の保存"
   ]
  },
  {
   "cell_type": "code",
   "execution_count": 1,
   "metadata": {},
   "outputs": [],
   "source": [
    "import cv2\n",
    "import os\n",
    "\n",
    "def save_all_frames(video_path, dir_path, basename, ext='jpg'):\n",
    "    cap = cv2.VideoCapture(video_path)\n",
    "\n",
    "    if not cap.isOpened():\n",
    "        return\n",
    "\n",
    "    os.makedirs(dir_path, exist_ok=True)\n",
    "    base_path = os.path.join(dir_path, basename)\n",
    "\n",
    "    digit = len(str(int(cap.get(cv2.CAP_PROP_FRAME_COUNT))))\n",
    "\n",
    "    n = 0\n",
    "\n",
    "    while True:\n",
    "        ret, frame = cap.read()\n",
    "        if ret:\n",
    "            cv2.imwrite('{}_{}.{}'.format(base_path, str(n).zfill(digit), ext), frame)\n",
    "            n += 1\n",
    "        else:\n",
    "            return"
   ]
  },
  {
   "cell_type": "code",
   "execution_count": null,
   "metadata": {},
   "outputs": [],
   "source": [
    "import os\n",
    "save_all_frames('IMG_3863.MOV', f'imgs', 'img', 'png')"
   ]
  },
  {
   "cell_type": "code",
   "execution_count": null,
   "metadata": {},
   "outputs": [],
   "source": [
    "import cv2\n",
    "\n",
    "# 読み込む画像を選択\n",
    "img = cv2.imread(\"img/C0003.MP4/img_0002.png\")\n",
    "\n",
    "# サイズ設定｜cv2では(幅、高さ）の順で数値を設定\n",
    "size = (450,300) \n",
    "\n",
    "# 画像拡大・縮小\n",
    "img_inter_area  = cv2.resize(img,size,interpolation = cv2.INTER_AREA) \n",
    "\n",
    "# 画像表示\n",
    "cv2.imshow(\"img\",img_inter_area)\n",
    "cv2.waitKey(0)\n",
    "cv2.destroyAllWindows()"
   ]
  },
  {
   "cell_type": "code",
   "execution_count": 1,
   "metadata": {},
   "outputs": [
    {
     "name": "stdout",
     "output_type": "stream",
     "text": [
      "(高さ, 幅, 色)=(400, 600, 3)\n"
     ]
    }
   ],
   "source": [
    "import cv2\n",
    "\n",
    "# 読み込む画像を選択\n",
    "img = cv2.imread(\"img/C0003.MP4/img_0002.png\")\n",
    "\n",
    "# サイズ設定｜cv2では(幅、高さ）の順で数値を設定\n",
    "size = (600,400)\n",
    "\n",
    "# リサイズ\n",
    "img_resize = cv2.resize(img,   # 画像データを指定\n",
    "                        size   # リサイズ後のサイズを指定\n",
    "                       )\n",
    "\n",
    "# リサイズ後の画像サイズ出力\n",
    "print(\"(高さ, 幅, 色)=\"+str(img_resize.shape))\n",
    "\n",
    "# リサイズ後を表示\n",
    "cv2.imshow(\"resize\",img_resize)\n",
    "cv2.waitKey(0)\n",
    "cv2.destroyAllWindows()"
   ]
  },
  {
   "cell_type": "code",
   "execution_count": 1,
   "metadata": {},
   "outputs": [],
   "source": [
    "import cv2\n",
    "\n",
    "# 読み込む画像を選択\n",
    "img = cv2.imread(\"img/C0003.MP4/img_1000.png\")\n",
    "\n",
    "# サイズ設定｜cv2では(幅、高さ）の順で数値を設定\n",
    "size = (600,400) \n",
    "\n",
    "# 画像圧縮\n",
    "img_inter_linear = cv2.resize(img,size,interpolation = cv2.INTER_LINEAR)\n",
    "\n",
    "# 画像表示\n",
    "cv2.imshow(\"linear\",img_inter_linear)\n",
    "cv2.waitKey(0)\n",
    "cv2.destroyAllWindows()"
   ]
  },
  {
   "cell_type": "code",
   "execution_count": null,
   "metadata": {},
   "outputs": [],
   "source": []
  }
 ],
 "metadata": {
  "kernelspec": {
   "display_name": ".venv",
   "language": "python",
   "name": "python3"
  },
  "language_info": {
   "codemirror_mode": {
    "name": "ipython",
    "version": 3
   },
   "file_extension": ".py",
   "mimetype": "text/x-python",
   "name": "python",
   "nbconvert_exporter": "python",
   "pygments_lexer": "ipython3",
   "version": "3.8.16"
  },
  "orig_nbformat": 4,
  "vscode": {
   "interpreter": {
    "hash": "315bb4504c925b82e8cd1f68c14b91f2418493de9c1f812bd46dfa7684d3fe2a"
   }
  }
 },
 "nbformat": 4,
 "nbformat_minor": 2
}
