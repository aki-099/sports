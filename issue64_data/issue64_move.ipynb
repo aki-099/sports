{
 "cells": [
  {
   "attachments": {},
   "cell_type": "markdown",
   "metadata": {},
   "source": [
    "### メモ"
   ]
  },
  {
   "attachments": {},
   "cell_type": "markdown",
   "metadata": {},
   "source": [
    "▪考え方\n",
    "    一般的に、人は走り出すとき前傾姿勢になる。\n",
    "    よって、そのとき軸足と逆の手が軸足よりも前に出る可能性が高い。(即ち、軸足と逆の手のx座標が軸足のx座標よりも大きくなる)\n",
    "    しかし、それだけではスタート位置ではない所でもこの条件は当てはまる場合がある。\n",
    "    そのため、以下の3つの条件を全て満たすときを走り出しとする。\n",
    "    　　　1. スタート位置(マーカ)との距離が一定以下である。→ マーカーの位置を把握する必要あり\n",
    "    　　　2. 歩幅が一定の長さ以上である。(走る前に歩幅を広げるため)\n",
    "    　　　3. 軸足と逆の手が軸足よりも前に出ている。\n",
    "\n",
    "▪課題\n",
    "    ・撮影する角度等により適用できない(IMG_0895のように)\n",
    "    ・軸足と逆の手でなく鼻でも良い可能性あり(腕の振り方が人により異なる可能性があるため)"
   ]
  },
  {
   "attachments": {},
   "cell_type": "markdown",
   "metadata": {},
   "source": [
    "IMG_0569"
   ]
  },
  {
   "attachments": {},
   "cell_type": "markdown",
   "metadata": {},
   "source": [
    "データの読み込み"
   ]
  },
  {
   "cell_type": "code",
   "execution_count": 85,
   "metadata": {},
   "outputs": [],
   "source": [
    "import pandas as pd\n",
    "\n",
    "file = \"C:/Users/uky20/OneDrive - 東京理科大学/スポーツ動画分析\"\n",
    "df = pd.read_csv(f'{file}/position_data.csv')\n",
    "\n",
    "df = df.set_index(\"frame\")\n",
    "dt = df"
   ]
  },
  {
   "attachments": {},
   "cell_type": "markdown",
   "metadata": {},
   "source": [
    "走者別のファイル作成(初回のみ実行)"
   ]
  },
  {
   "cell_type": "code",
   "execution_count": 2,
   "metadata": {},
   "outputs": [],
   "source": [
    "# import os\n",
    "# n = 0\n",
    "# period = []\n",
    "# data_path = f\"data/{file}/split\"\n",
    "\n",
    "# #NaNを含む行の削除\n",
    "# dt = df.dropna(how='any')\n",
    "\n",
    "# while n < len(dt.index):\n",
    "#     days = []\n",
    "#     for i in range(n,len(dt.index)):\n",
    "#         num = dt.index[i] + 1\n",
    "#         if i == len(dt.index)-1:\n",
    "#             days.append(i)\n",
    "#             period.append(days)\n",
    "#             break\n",
    "#         if dt.index[i+1] == num:\n",
    "#             days.append(i)\n",
    "#         else:\n",
    "#             days.append(i)\n",
    "#             period.append(days)\n",
    "#             break\n",
    "#     n = i+1\n",
    "# count = 0\n",
    "# for i in range(len(period)):\n",
    "#     df = dt.loc[dt.index[period[i]]]\n",
    "#     if(len(df)) >  800:\n",
    "#         count +=1\n",
    "#         if os.path.exists(data_path)==False:\n",
    "#             os.mkdir(data_path)\n",
    "#         df.to_csv(f\"{data_path}/{file}_Person{count}.csv\",encoding=\"utf-8\")"
   ]
  },
  {
   "attachments": {},
   "cell_type": "markdown",
   "metadata": {},
   "source": [
    "走り出す直前の画像ファイルを特定するための関数"
   ]
  },
  {
   "cell_type": "code",
   "execution_count": 86,
   "metadata": {},
   "outputs": [],
   "source": [
    "def start_running(df_path):\n",
    "    \n",
    "    #データの読み込み\n",
    "    df = pd.read_csv(df_path,encoding=\"utf-8\")\n",
    "    df = df.set_index(\"frame\")\n",
    "    columns = [i for i in df.columns if \"WRIST\"  in i]\n",
    "    data = df[columns]\n",
    "    \n",
    "    marker_position = 0.2\n",
    "    leg_to_leg = 0.095\n",
    "    wrist = list(df[\"RIGHT_WRIST_y\"])\n",
    "    head = list(df['LEFT_EAR_y'])\n",
    "\n",
    "    id = -1\n",
    "    id2 = -1\n",
    "    flag = False\n",
    "    \n",
    "    ue = df[\"RIGHT_WRIST_y\"].idxmin()\n",
    "    \n",
    "    for i in range(len(df.index)):\n",
    "        if flag == False and (wrist[i] < head[i]):\n",
    "            id = i\n",
    "            flag = True\n",
    "        if flag == True and (wrist[i] > head[i]):\n",
    "            down = i\n",
    "            break\n",
    "    \n",
    "    for j in range(down,len(df.index)):\n",
    "        if (wrist[j] < head[j]):\n",
    "            id2 = j\n",
    "            break\n",
    "\n",
    "    print(str(id))\n",
    "    print(down)\n",
    "    print(wrist[down])\n",
    "    print(head[down])\n",
    "    print(str(id2))\n",
    "\n",
    "\n",
    "    # s = data[\"RIGHT_WRIST_x\"].idxm()\n",
    "    # print(s)\n",
    "    # #条件⓵\n",
    "    # # スタート位置のx座標の定義\n",
    "    # # →　マーカーとの位置関係を把握する必要あり(条件を変更させる)\n",
    "    # df = data.loc[(data[\"LEFT_FOOT_INDEX_x\"] > marker_position) | (data[\"RIGHT_FOOT_INDEX_x\"] > marker_position)]\n",
    "    \n",
    "    # #条件⓶\n",
    "    # df = df.loc[abs(df[\"LEFT_FOOT_INDEX_x\"] - df[\"RIGHT_FOOT_INDEX_x\"]) >= leg_to_leg]\n",
    "\n",
    "    # #軸足の検出\n",
    "    # pivot_foot = \"RIGHT_FOOT_INDEX_x\"\n",
    "    # if list(df[\"LEFT_FOOT_INDEX_x\"])[0] >= list(df[\"RIGHT_FOOT_INDEX_x\"])[0]:\n",
    "    #     pivot_foot = \"LEFT_FOOT_INDEX_x\"\n",
    "    \n",
    "    # #条件⓷\n",
    "    # #軸足と逆の手の検出\n",
    "    # pivot_wrist = pivot_foot.replace(\"_FOOT_INDEX_x\",\"\")\n",
    "    # if pivot_wrist == \"LEFT\":\n",
    "    #     pivot_wrist = \"RIGHT\"\n",
    "    # else:\n",
    "    #     pivot_wrist = \"LEFT\"\n",
    "    # df = df.loc[(df[pivot_foot] < df[f\"{pivot_wrist}_WRIST_x\"])]\n",
    "    \n",
    "    # print(\"軸足 : \" + pivot_foot.replace(\"_INDEX_x\",\"\"))\n",
    "    # print(\"走り出す直前の画像No. : \" + str(list(df.index)[0]))\n",
    "    # print(\"---------\"*10)"
   ]
  },
  {
   "cell_type": "code",
   "execution_count": 87,
   "metadata": {},
   "outputs": [
    {
     "name": "stdout",
     "output_type": "stream",
     "text": [
      "350\n",
      "521\n",
      "0.1963202357292175\n",
      "0.1944350600242614\n",
      "4550\n"
     ]
    }
   ],
   "source": [
    "start_running(f'{file}/position_data.csv')"
   ]
  },
  {
   "attachments": {},
   "cell_type": "markdown",
   "metadata": {},
   "source": [
    "関数の実行"
   ]
  },
  {
   "cell_type": "code",
   "execution_count": 8,
   "metadata": {},
   "outputs": [
    {
     "name": "stdout",
     "output_type": "stream",
     "text": [
      "軸足 : LEFT_FOOT\n",
      "走り出す直前の画像No. : 1101\n",
      "------------------------------------------------------------------------------------------\n",
      "軸足 : LEFT_FOOT\n",
      "走り出す直前の画像No. : 3435\n",
      "------------------------------------------------------------------------------------------\n"
     ]
    }
   ],
   "source": [
    "import os\n",
    "\n",
    "data_path = f\"{file}/split\"\n",
    "#ファイル数の取得\n",
    "n = sum(os.path.isfile(os.path.join(data_path,name)) for name in os.listdir(data_path))\n",
    "\n",
    "for i in range(n):\n",
    "    start_running(f\"{file}/split/{file}_Person{i+1}.csv\")"
   ]
  },
  {
   "attachments": {},
   "cell_type": "markdown",
   "metadata": {},
   "source": [
    "IMG_0895"
   ]
  },
  {
   "cell_type": "code",
   "execution_count": 86,
   "metadata": {},
   "outputs": [],
   "source": [
    "def start_running(df_path):\n",
    "    \n",
    "    #データの読み込み\n",
    "    df = pd.read_csv(df_path,encoding=\"utf-8\")\n",
    "    df = df.set_index(\"frame\")\n",
    "    columns = [i for i in df.columns if \"NOSE\"  in i]\n",
    "    columns = columns + [i for i in df.columns if \"FOOT\"  in i]\n",
    "    columns = [i for i in columns if 'z' not in i]\n",
    "    data = df[columns]\n",
    "\n",
    "    #変数\n",
    "    # marker_position = 0.2\n",
    "    leg_to_leg = 0.045\n",
    "    \n",
    "    \n",
    "    #条件⓵\n",
    "    # スタート位置のx座標の定義\n",
    "    # →　マーカーとの位置関係を把握する必要あり(条件を変更させる)\n",
    "    df = data.loc[(data[\"LEFT_FOOT_INDEX_x\"] < 0.7) | (data[\"RIGHT_FOOT_INDEX_x\"] < 0.7)]\n",
    "    df = data.loc[(data[\"LEFT_FOOT_INDEX_x\"] > 0.6) | (data[\"RIGHT_FOOT_INDEX_x\"] > 0.6)]\n",
    "    \n",
    "    #条件⓶\n",
    "    df = df.loc[abs(df[\"LEFT_FOOT_INDEX_x\"] - df[\"RIGHT_FOOT_INDEX_x\"]) >= leg_to_leg]\n",
    "\n",
    "    #軸足の検出\n",
    "    pivot_foot = \"RIGHT_FOOT_INDEX_x\"\n",
    "    if list(df[\"LEFT_FOOT_INDEX_x\"])[0] < list(df[\"RIGHT_FOOT_INDEX_x\"])[0]:\n",
    "        pivot_foot = \"LEFT_FOOT_INDEX_x\"\n",
    "    \n",
    "    #条件⓷\n",
    "    #軸足と逆の手の検出\n",
    "    # pivot_wrist = pivot_foot.replace(\"_FOOT_INDEX_x\",\"\")\n",
    "    # if pivot_wrist == \"LEFT\":\n",
    "    #     pivot_wrist = \"RIGHT\"\n",
    "    # else:\n",
    "    #     pivot_wrist = \"LEFT\"\n",
    "    # df = df.loc[(df[pivot_foot] > df[f\"{pivot_wrist}_WRIST_x\"])]\n",
    "    \n",
    "    df = df.loc[(df[pivot_foot] > df[\"NOSE_x\"])]\n",
    "    \n",
    "    print(\"軸足 : \" + pivot_foot.replace(\"_INDEX_x\",\"\"))\n",
    "    print(\"走り出す直前の画像No. : \" + str(list(df.index)[0]))\n",
    "    print(\"---------\"*10)"
   ]
  },
  {
   "cell_type": "code",
   "execution_count": 10,
   "metadata": {},
   "outputs": [
    {
     "name": "stdout",
     "output_type": "stream",
     "text": [
      "軸足 : LEFT_FOOT\n",
      "走り出す直前の画像No. : 1359\n",
      "------------------------------------------------------------------------------------------\n",
      "軸足 : LEFT_FOOT\n"
     ]
    },
    {
     "ename": "IndexError",
     "evalue": "list index out of range",
     "output_type": "error",
     "traceback": [
      "\u001b[0;31m---------------------------------------------------------------------------\u001b[0m",
      "\u001b[0;31mIndexError\u001b[0m                                Traceback (most recent call last)",
      "Cell \u001b[0;32mIn[10], line 9\u001b[0m\n\u001b[1;32m      6\u001b[0m n \u001b[39m=\u001b[39m \u001b[39msum\u001b[39m(os\u001b[39m.\u001b[39mpath\u001b[39m.\u001b[39misfile(os\u001b[39m.\u001b[39mpath\u001b[39m.\u001b[39mjoin(data_path,name)) \u001b[39mfor\u001b[39;00m name \u001b[39min\u001b[39;00m os\u001b[39m.\u001b[39mlistdir(data_path))\n\u001b[1;32m      8\u001b[0m \u001b[39mfor\u001b[39;00m i \u001b[39min\u001b[39;00m \u001b[39mrange\u001b[39m(n):\n\u001b[0;32m----> 9\u001b[0m     start_running(\u001b[39mf\u001b[39;49m\u001b[39m\"\u001b[39;49m\u001b[39m{\u001b[39;49;00mfile\u001b[39m}\u001b[39;49;00m\u001b[39m/split/\u001b[39;49m\u001b[39m{\u001b[39;49;00mfile\u001b[39m}\u001b[39;49;00m\u001b[39m_Person\u001b[39;49m\u001b[39m{\u001b[39;49;00mi\u001b[39m+\u001b[39;49m\u001b[39m1\u001b[39;49m\u001b[39m}\u001b[39;49;00m\u001b[39m.csv\u001b[39;49m\u001b[39m\"\u001b[39;49m)\n",
      "Cell \u001b[0;32mIn[4], line 34\u001b[0m, in \u001b[0;36mstart_running\u001b[0;34m(df_path)\u001b[0m\n\u001b[1;32m     31\u001b[0m df \u001b[39m=\u001b[39m df\u001b[39m.\u001b[39mloc[(df[pivot_foot] \u001b[39m<\u001b[39m df[\u001b[39mf\u001b[39m\u001b[39m\"\u001b[39m\u001b[39m{\u001b[39;00mpivot_wrist\u001b[39m}\u001b[39;00m\u001b[39m_WRIST_x\u001b[39m\u001b[39m\"\u001b[39m])]\n\u001b[1;32m     33\u001b[0m \u001b[39mprint\u001b[39m(\u001b[39m\"\u001b[39m\u001b[39m軸足 : \u001b[39m\u001b[39m\"\u001b[39m \u001b[39m+\u001b[39m pivot_foot\u001b[39m.\u001b[39mreplace(\u001b[39m\"\u001b[39m\u001b[39m_INDEX_x\u001b[39m\u001b[39m\"\u001b[39m,\u001b[39m\"\u001b[39m\u001b[39m\"\u001b[39m))\n\u001b[0;32m---> 34\u001b[0m \u001b[39mprint\u001b[39m(\u001b[39m\"\u001b[39m\u001b[39m走り出す直前の画像No. : \u001b[39m\u001b[39m\"\u001b[39m \u001b[39m+\u001b[39m \u001b[39mstr\u001b[39m(\u001b[39mlist\u001b[39;49m(df\u001b[39m.\u001b[39;49mindex)[\u001b[39m0\u001b[39;49m]))\n\u001b[1;32m     35\u001b[0m \u001b[39mprint\u001b[39m(\u001b[39m\"\u001b[39m\u001b[39m---------\u001b[39m\u001b[39m\"\u001b[39m\u001b[39m*\u001b[39m\u001b[39m10\u001b[39m)\n",
      "\u001b[0;31mIndexError\u001b[0m: list index out of range"
     ]
    }
   ],
   "source": [
    "import os\n",
    "\n",
    "file = \"IMG_0895\"\n",
    "data_path = f\"{file}/split\"\n",
    "#ファイル数の取得\n",
    "n = sum(os.path.isfile(os.path.join(data_path,name)) for name in os.listdir(data_path))\n",
    "\n",
    "for i in range(n):\n",
    "    start_running(f\"{file}/split/{file}_Person{i+1}.csv\")"
   ]
  }
 ],
 "metadata": {
  "kernelspec": {
   "display_name": ".venv",
   "language": "python",
   "name": "python3"
  },
  "language_info": {
   "codemirror_mode": {
    "name": "ipython",
    "version": 3
   },
   "file_extension": ".py",
   "mimetype": "text/x-python",
   "name": "python",
   "nbconvert_exporter": "python",
   "pygments_lexer": "ipython3",
   "version": "3.10.9"
  },
  "orig_nbformat": 4
 },
 "nbformat": 4,
 "nbformat_minor": 2
}
